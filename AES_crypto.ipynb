{
  "nbformat": 4,
  "nbformat_minor": 0,
  "metadata": {
    "colab": {
      "provenance": [],
      "toc_visible": true,
      "authorship_tag": "ABX9TyMUCXpeXHbGjrIZjNk5x1NR",
      "include_colab_link": true
    },
    "kernelspec": {
      "name": "python3",
      "display_name": "Python 3"
    },
    "language_info": {
      "name": "python"
    }
  },
  "cells": [
    {
      "cell_type": "markdown",
      "metadata": {
        "id": "view-in-github",
        "colab_type": "text"
      },
      "source": [
        "<a href=\"https://colab.research.google.com/github/sid6236/Classification-of-Encrypted-Data/blob/main/AES_crypto.ipynb\" target=\"_parent\"><img src=\"https://colab.research.google.com/assets/colab-badge.svg\" alt=\"Open In Colab\"/></a>"
      ]
    },
    {
      "cell_type": "code",
      "source": [
        "pip install pycryptodome"
      ],
      "metadata": {
        "colab": {
          "base_uri": "https://localhost:8080/"
        },
        "id": "uTbqf2r29t9S",
        "outputId": "4bf8fa80-9ed4-466a-da6d-d8face5007bc"
      },
      "execution_count": null,
      "outputs": [
        {
          "output_type": "stream",
          "name": "stdout",
          "text": [
            "Collecting pycryptodome\n",
            "  Downloading pycryptodome-3.20.0-cp35-abi3-manylinux_2_17_x86_64.manylinux2014_x86_64.whl (2.1 MB)\n",
            "\u001b[?25l     \u001b[90m━━━━━━━━━━━━━━━━━━━━━━━━━━━━━━━━━━━━━━━━\u001b[0m \u001b[32m0.0/2.1 MB\u001b[0m \u001b[31m?\u001b[0m eta \u001b[36m-:--:--\u001b[0m\r\u001b[2K     \u001b[91m━━\u001b[0m\u001b[90m╺\u001b[0m\u001b[90m━━━━━━━━━━━━━━━━━━━━━━━━━━━━━━━━━━━━━\u001b[0m \u001b[32m0.1/2.1 MB\u001b[0m \u001b[31m3.8 MB/s\u001b[0m eta \u001b[36m0:00:01\u001b[0m\r\u001b[2K     \u001b[91m━━━━━━━━━━━━━━━━━━━━━━━━━━━━━━━━━━━━━━━\u001b[0m\u001b[91m╸\u001b[0m \u001b[32m2.1/2.1 MB\u001b[0m \u001b[31m36.5 MB/s\u001b[0m eta \u001b[36m0:00:01\u001b[0m\r\u001b[2K     \u001b[90m━━━━━━━━━━━━━━━━━━━━━━━━━━━━━━━━━━━━━━━━\u001b[0m \u001b[32m2.1/2.1 MB\u001b[0m \u001b[31m28.0 MB/s\u001b[0m eta \u001b[36m0:00:00\u001b[0m\n",
            "\u001b[?25hInstalling collected packages: pycryptodome\n",
            "Successfully installed pycryptodome-3.20.0\n"
          ]
        }
      ]
    },
    {
      "cell_type": "code",
      "source": [
        "pip install cipher"
      ],
      "metadata": {
        "colab": {
          "base_uri": "https://localhost:8080/"
        },
        "id": "LMxQMZsi8-w3",
        "outputId": "b0feac2b-c35d-4a50-e673-07e93e2280b0"
      },
      "execution_count": null,
      "outputs": [
        {
          "output_type": "stream",
          "name": "stdout",
          "text": [
            "Collecting cipher\n",
            "  Downloading cipher-0.1.tar.gz (1.7 kB)\n",
            "  Preparing metadata (setup.py) ... \u001b[?25l\u001b[?25hdone\n",
            "Building wheels for collected packages: cipher\n",
            "  Building wheel for cipher (setup.py) ... \u001b[?25l\u001b[?25hdone\n",
            "  Created wheel for cipher: filename=cipher-0.1-py3-none-any.whl size=2248 sha256=917131f6c5ba5af3ee24eaeae257b5995cc316d87c66ffd9fae9b4c0cea9c3b2\n",
            "  Stored in directory: /root/.cache/pip/wheels/bb/c5/11/f5c504d02de5ce9132e0c701bb2badf060f9f73b08deb1b0d8\n",
            "Successfully built cipher\n",
            "Installing collected packages: cipher\n",
            "Successfully installed cipher-0.1\n"
          ]
        }
      ]
    },
    {
      "cell_type": "code",
      "source": [
        "pip install AES"
      ],
      "metadata": {
        "colab": {
          "base_uri": "https://localhost:8080/"
        },
        "id": "rpjl8LJC9i06",
        "outputId": "e0249a8b-11aa-4eab-95f5-1bd64fdbeffe"
      },
      "execution_count": null,
      "outputs": [
        {
          "output_type": "stream",
          "name": "stdout",
          "text": [
            "Requirement already satisfied: AES in /usr/local/lib/python3.10/dist-packages (1.2.0)\n"
          ]
        }
      ]
    },
    {
      "cell_type": "code",
      "execution_count": null,
      "metadata": {
        "id": "NSRM5nz1VzSm"
      },
      "outputs": [],
      "source": [
        "import pandas as pd\n",
        "from sklearn.model_selection import train_test_split\n",
        "from sklearn.feature_extraction.text import TfidfVectorizer\n",
        "from sklearn.ensemble import RandomForestClassifier\n",
        "from sklearn.metrics import classification_report, accuracy_score\n",
        "from keras.preprocessing.text import Tokenizer\n",
        "from keras.preprocessing.sequence import pad_sequences\n",
        "from keras.models import Sequential\n",
        "from keras.layers import Embedding, LSTM, Dense, Dropout\n",
        "from Crypto.Cipher import AES\n",
        "from Crypto.Util.Padding import pad, unpad\n",
        "import base64\n",
        "import os\n",
        "import matplotlib.pyplot as plt"
      ]
    },
    {
      "cell_type": "code",
      "source": [
        "# Function to encrypt text using AES\n",
        "def encrypt_aes(text, key, mode):\n",
        "    text = str(text)  # Ensure the text is a string\n",
        "    cipher = AES.new(key, mode)\n",
        "    if mode == AES.MODE_ECB:\n",
        "        encrypted_text = cipher.encrypt(pad(text.encode('utf-8'), AES.block_size))\n",
        "    elif mode == AES.MODE_CBC:\n",
        "        iv = os.urandom(AES.block_size)\n",
        "        cipher = AES.new(key, mode, iv)\n",
        "        encrypted_text = iv + cipher.encrypt(pad(text.encode('utf-8'), AES.block_size))\n",
        "    return base64.b64encode(encrypted_text).decode('utf-8')"
      ],
      "metadata": {
        "id": "o6xRsHtYzbba"
      },
      "execution_count": null,
      "outputs": []
    },
    {
      "cell_type": "code",
      "source": [
        "# Load dataset\n",
        "df = pd.read_csv(\"/content/full_data_UpTo_nov2021.csv\")\n",
        "\n",
        "# Assuming the dataset has a 'content' column containing news summaries\n",
        "df['content'] = df['content'].fillna('')  # Fill NaN values with empty string\n",
        "df_sample = df.sample(2000, random_state=42)  # Taking 2000 samples\n",
        "\n",
        "# Split into two sets for ECB and CBC\n",
        "df_ecb = df_sample.iloc[:1000].copy()\n",
        "df_cbc = df_sample.iloc[1000:].copy()\n",
        "\n",
        "# AES key (must be either 16, 24, or 32 bytes long)\n",
        "key = os.urandom(32)\n",
        "\n",
        "# Encrypt the text data\n",
        "df_ecb['content'] = df_ecb['content'].apply(lambda x: encrypt_aes(x, key, AES.MODE_ECB))\n",
        "df_cbc['content'] = df_cbc['content'].apply(lambda x: encrypt_aes(x, key, AES.MODE_CBC))\n",
        "\n",
        "# Add mode column\n",
        "df_ecb['mode'] = 'ECB'\n",
        "df_cbc['mode'] = 'CBC'"
      ],
      "metadata": {
        "colab": {
          "base_uri": "https://localhost:8080/"
        },
        "id": "FkXmXN8Pze78",
        "outputId": "3770c13f-f46d-4738-c454-bfd5944f7500"
      },
      "execution_count": null,
      "outputs": [
        {
          "output_type": "stream",
          "name": "stderr",
          "text": [
            "<ipython-input-7-7cab5616dbc2>:2: DtypeWarning: Columns (0) have mixed types. Specify dtype option on import or set low_memory=False.\n",
            "  df = pd.read_csv(\"/content/full_data_UpTo_nov2021.csv\")\n"
          ]
        }
      ]
    },
    {
      "cell_type": "code",
      "source": [
        "# Combine the datasets\n",
        "df_combined = pd.concat([df_ecb, df_cbc])\n",
        "\n",
        "# Preprocess Data\n",
        "X = df_combined['content']\n",
        "y = df_combined['mode']\n",
        "\n",
        "# Split into training and testing sets\n",
        "X_train, X_test, y_train, y_test = train_test_split(X, y, test_size=0.2, random_state=42)"
      ],
      "metadata": {
        "id": "iiSB2pjCz2ip"
      },
      "execution_count": null,
      "outputs": []
    },
    {
      "cell_type": "code",
      "source": [
        "# Feature Extraction for Random Forest\n",
        "vectorizer = TfidfVectorizer(max_features=5000)\n",
        "X_train_tfidf = vectorizer.fit_transform(X_train)\n",
        "X_test_tfidf = vectorizer.transform(X_test)\n",
        "\n",
        "# Train Random Forest\n",
        "rf_model = RandomForestClassifier(n_estimators=100, random_state=42)\n",
        "rf_model.fit(X_train_tfidf, y_train)\n",
        "y_pred_rf = rf_model.predict(X_test_tfidf)\n",
        "\n",
        "# Evaluate Random Forest\n",
        "print(\"Random Forest Classification Report:\")\n",
        "print(classification_report(y_test, y_pred_rf))\n",
        "print(\"Random Forest Accuracy:\", accuracy_score(y_test, y_pred_rf))"
      ],
      "metadata": {
        "colab": {
          "base_uri": "https://localhost:8080/"
        },
        "id": "cu-PwpcQ1BxT",
        "outputId": "8900e875-42a2-4d68-c6fd-ad4bf5899bef"
      },
      "execution_count": null,
      "outputs": [
        {
          "output_type": "stream",
          "name": "stdout",
          "text": [
            "Random Forest Classification Report:\n",
            "              precision    recall  f1-score   support\n",
            "\n",
            "         CBC       0.65      1.00      0.79       201\n",
            "         ECB       1.00      0.46      0.63       199\n",
            "\n",
            "    accuracy                           0.73       400\n",
            "   macro avg       0.83      0.73      0.71       400\n",
            "weighted avg       0.82      0.73      0.71       400\n",
            "\n",
            "Random Forest Accuracy: 0.73\n"
          ]
        }
      ]
    },
    {
      "cell_type": "code",
      "source": [
        "# Feature Extraction for LSTM\n",
        "tokenizer = Tokenizer(num_words=5000)\n",
        "tokenizer.fit_on_texts(X_train)\n",
        "X_train_seq = tokenizer.texts_to_sequences(X_train)\n",
        "X_test_seq = tokenizer.texts_to_sequences(X_test)\n",
        "\n",
        "# Pad sequences to ensure uniform input length\n",
        "max_seq_length = 100  # This can be adjusted based on the dataset\n",
        "X_train_pad = pad_sequences(X_train_seq, maxlen=max_seq_length)\n",
        "X_test_pad = pad_sequences(X_test_seq, maxlen=max_seq_length)\n",
        "\n",
        "# Train LSTM\n",
        "vocab_size = len(tokenizer.word_index) + 1  # Adding 1 because of reserved 0 index\n",
        "embedding_dim = 100\n",
        "\n",
        "lstm_model = Sequential()\n",
        "lstm_model.add(Embedding(vocab_size, embedding_dim, input_length=max_seq_length))\n",
        "lstm_model.add(LSTM(128, dropout=0.2, recurrent_dropout=0.2))\n",
        "lstm_model.add(Dense(1, activation='sigmoid'))\n",
        "\n",
        "lstm_model.compile(loss='binary_crossentropy', optimizer='adam', metrics=['accuracy'])"
      ],
      "metadata": {
        "id": "fN-6daev1DZM"
      },
      "execution_count": null,
      "outputs": []
    },
    {
      "cell_type": "code",
      "source": [
        "# Convert labels to binary (0 for ECB, 1 for CBC)\n",
        "y_train_binary = (y_train == 'CBC').astype(int)\n",
        "y_test_binary = (y_test == 'CBC').astype(int)\n",
        "\n",
        "lstm_model.fit(X_train_pad, y_train_binary, epochs=5, batch_size=32, validation_split=0.1)\n",
        "\n",
        "# Evaluate LSTM\n",
        "y_pred_lstm = (lstm_model.predict(X_test_pad) > 0.5).astype(\"int32\")\n",
        "print(\"LSTM Classification Report:\")\n",
        "print(classification_report(y_test_binary, y_pred_lstm))\n",
        "print(\"LSTM Accuracy:\", accuracy_score(y_test_binary, y_pred_lstm))"
      ],
      "metadata": {
        "colab": {
          "base_uri": "https://localhost:8080/"
        },
        "id": "9blory8H1VtR",
        "outputId": "2bd84a34-61c1-456f-f291-f5d64baffdc3"
      },
      "execution_count": null,
      "outputs": [
        {
          "output_type": "stream",
          "name": "stdout",
          "text": [
            "Epoch 1/5\n",
            "45/45 [==============================] - 17s 301ms/step - loss: 0.6826 - accuracy: 0.5701 - val_loss: 0.6564 - val_accuracy: 0.6938\n",
            "Epoch 2/5\n",
            "45/45 [==============================] - 12s 277ms/step - loss: 0.5643 - accuracy: 0.7354 - val_loss: 0.5550 - val_accuracy: 0.6875\n",
            "Epoch 3/5\n",
            "45/45 [==============================] - 10s 228ms/step - loss: 0.3614 - accuracy: 0.8438 - val_loss: 0.5470 - val_accuracy: 0.7063\n",
            "Epoch 4/5\n",
            "45/45 [==============================] - 12s 270ms/step - loss: 0.2981 - accuracy: 0.8528 - val_loss: 0.5398 - val_accuracy: 0.7000\n",
            "Epoch 5/5\n",
            "45/45 [==============================] - 12s 274ms/step - loss: 0.2862 - accuracy: 0.8542 - val_loss: 0.5743 - val_accuracy: 0.6938\n",
            "13/13 [==============================] - 1s 32ms/step\n",
            "LSTM Classification Report:\n",
            "              precision    recall  f1-score   support\n",
            "\n",
            "           0       0.92      0.49      0.64       199\n",
            "           1       0.65      0.96      0.78       201\n",
            "\n",
            "    accuracy                           0.72       400\n",
            "   macro avg       0.78      0.72      0.71       400\n",
            "weighted avg       0.78      0.72      0.71       400\n",
            "\n",
            "LSTM Accuracy: 0.7225\n"
          ]
        }
      ]
    },
    {
      "cell_type": "code",
      "source": [
        "# Calculate accuracy for each mode and model\n",
        "rf_accuracy_ecb = accuracy_score(y_test[y_test == 'ECB'], y_pred_rf[y_test == 'ECB'])\n",
        "rf_accuracy_cbc = accuracy_score(y_test[y_test == 'CBC'], y_pred_rf[y_test == 'CBC'])\n",
        "lstm_accuracy_ecb = accuracy_score(y_test_binary[y_test == 'ECB'], y_pred_lstm[y_test == 'ECB'])\n",
        "lstm_accuracy_cbc = accuracy_score(y_test_binary[y_test == 'CBC'], y_pred_lstm[y_test == 'CBC'])\n",
        "\n",
        "# Compare Random Forest and LSTM accuracy for ECB and CBC\n",
        "modes = ['ECB', 'CBC']\n",
        "rf_accuracies = [rf_accuracy_ecb, rf_accuracy_cbc]\n",
        "lstm_accuracies = [lstm_accuracy_ecb, lstm_accuracy_cbc]\n",
        "\n",
        "x = range(len(modes))\n",
        "\n",
        "plt.figure(figsize=(10, 6))\n",
        "\n",
        "plt.bar(x, rf_accuracies, width=0.4, label='Random Forest', align='center', color='blue')\n",
        "plt.bar([p + 0.4 for p in x], lstm_accuracies, width=0.4, label='LSTM', align='center', color='green')\n",
        "\n",
        "plt.xlabel('Mode')\n",
        "plt.ylabel('Accuracy')\n",
        "plt.title('Model Accuracy Comparison by Mode')\n",
        "plt.xticks([p + 0.2 for p in x], modes)\n",
        "plt.ylim(0, 1)\n",
        "plt.legend()\n",
        "\n",
        "plt.tight_layout()\n",
        "plt.show()"
      ],
      "metadata": {
        "colab": {
          "base_uri": "https://localhost:8080/",
          "height": 597
        },
        "id": "w8EwYlcb_Jbg",
        "outputId": "01c532c2-77d1-4512-94f8-e50df8b58399"
      },
      "execution_count": null,
      "outputs": [
        {
          "output_type": "display_data",
          "data": {
            "text/plain": [
              "<Figure size 1000x600 with 1 Axes>"
            ],
            "image/png": "[encoded data removed]"
          },
          "metadata": {}
        }
      ]
    }
  ]
}